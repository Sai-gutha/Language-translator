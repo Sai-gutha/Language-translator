{
 "cells": [
  {
   "cell_type": "code",
   "execution_count": 29,
   "id": "d4bc92c7-d022-4c68-821c-75e1938f8779",
   "metadata": {},
   "outputs": [
    {
     "name": "stdout",
     "output_type": "stream",
     "text": [
      "Welcome to the AI Language Translator!\n",
      "Available languages: afrikaans, albanian, amharic, arabic, armenian, assamese, aymara, azerbaijani, bambara, basque, belarusian, bengali, bhojpuri, bosnian, bulgarian, catalan, cebuano, chichewa, chinese (simplified), chinese (traditional), corsican, croatian, czech, danish, dhivehi, dogri, dutch, english, esperanto, estonian, ewe, filipino, finnish, french, frisian, galician, georgian, german, greek, guarani, gujarati, haitian creole, hausa, hawaiian, hebrew, hindi, hmong, hungarian, icelandic, igbo, ilocano, indonesian, irish, italian, japanese, javanese, kannada, kazakh, khmer, kinyarwanda, konkani, korean, krio, kurdish (kurmanji), kurdish (sorani), kyrgyz, lao, latin, latvian, lingala, lithuanian, luganda, luxembourgish, macedonian, maithili, malagasy, malay, malayalam, maltese, maori, marathi, meiteilon (manipuri), mizo, mongolian, myanmar, nepali, norwegian, odia (oriya), oromo, pashto, persian, polish, portuguese, punjabi, quechua, romanian, russian, samoan, sanskrit, scots gaelic, sepedi, serbian, sesotho, shona, sindhi, sinhala, slovak, slovenian, somali, spanish, sundanese, swahili, swedish, tajik, tamil, tatar, telugu, thai, tigrinya, tsonga, turkish, turkmen, twi, ukrainian, urdu, uyghur, uzbek, vietnamese, welsh, xhosa, yiddish, yoruba, zulu\n",
      "Use language codes (e.g., 'en' for English, 'es' for Spanish, 'fr' for French)\n",
      "Enter 'auto' for source language to auto-detect.\n",
      "\n"
     ]
    },
    {
     "name": "stdin",
     "output_type": "stream",
     "text": [
      "Enter the text to translate:  father, mother and brother, sister and cousin, uncle, aunty, step mother and step mother\n",
      "Enter source language code (or 'auto'):  auto\n",
      "Enter target language code:  french\n"
     ]
    },
    {
     "name": "stdout",
     "output_type": "stream",
     "text": [
      "\n",
      "Translated text: père, mère et frère, sœur et cousin, oncle, tante, belle-mère et belle-mère\n"
     ]
    }
   ],
   "source": [
    "from deep_translator import GoogleTranslator\n",
    "from deep_translator.constants import GOOGLE_LANGUAGES_TO_CODES as LANGUAGES\n",
    "\n",
    "def translate_text(text, src_lang='auto', dest_lang='en'):\n",
    "    # Initialize the translator\n",
    "    try:\n",
    "        translator = GoogleTranslator(source=src_lang, target=dest_lang)\n",
    "        # Perform the translation\n",
    "        return translator.translate(text)\n",
    "    except Exception as e:\n",
    "        return f\"Error during translation: {str(e)}\"\n",
    "\n",
    "def main():\n",
    "    print(\"Welcome to the AI Language Translator!\")\n",
    "    print(\"Available languages:\", \", \".join(LANGUAGES.keys()))\n",
    "    print(\"Use language codes (e.g., 'en' for English, 'es' for Spanish, 'fr' for French)\")\n",
    "    print(\"Enter 'auto' for source language to auto-detect.\\n\")\n",
    "\n",
    "    # Get user input\n",
    "    text = input(\"Enter the text to translate: \")\n",
    "    src_lang = input(\"Enter source language code (or 'auto'): \")\n",
    "    dest_lang = input(\"Enter target language code: \")\n",
    "\n",
    "    # Validate inputs\n",
    "    if src_lang != 'auto' and src_lang not in LANGUAGES:\n",
    "        print(f\"Invalid source language code '{src_lang}'. Using 'auto' instead.\")\n",
    "        src_lang = 'auto'\n",
    "    if dest_lang not in LANGUAGES:\n",
    "        print(f\"Invalid target language code '{dest_lang}'. Defaulting to 'en' (English).\")\n",
    "        dest_lang = 'en'\n",
    "\n",
    "    # Translate and display result\n",
    "    result = translate_text(text, src_lang, dest_lang)\n",
    "    print(f\"\\nTranslated text: {result}\")\n",
    "\n",
    "if __name__ == \"__main__\":\n",
    "    main()"
   ]
  },
  {
   "cell_type": "code",
   "execution_count": null,
   "id": "7755678d-37b1-468b-8e53-2d7831bf10b7",
   "metadata": {},
   "outputs": [],
   "source": []
  }
 ],
 "metadata": {
  "kernelspec": {
   "display_name": "Python 3 (ipykernel)",
   "language": "python",
   "name": "python3"
  },
  "language_info": {
   "codemirror_mode": {
    "name": "ipython",
    "version": 3
   },
   "file_extension": ".py",
   "mimetype": "text/x-python",
   "name": "python",
   "nbconvert_exporter": "python",
   "pygments_lexer": "ipython3",
   "version": "3.13.2"
  }
 },
 "nbformat": 4,
 "nbformat_minor": 5
}
